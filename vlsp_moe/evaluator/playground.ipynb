{
 "cells": [
  {
   "cell_type": "markdown",
   "id": "659c980f",
   "metadata": {},
   "source": [
    "## ScareBleu"
   ]
  },
  {
   "cell_type": "code",
   "execution_count": 4,
   "id": "ffded9df",
   "metadata": {},
   "outputs": [
    {
     "name": "stdout",
     "output_type": "stream",
     "text": [
      "============================================================\n",
      "BLEU EVALUATION REPORT\n",
      "============================================================\n",
      "Corpus BLEU Score: 21.36\n",
      "\n",
      "INDIVIDUAL SENTENCE STATISTICS:\n",
      "  Mean BLEU: 35.99\n",
      "  Median BLEU: 41.11\n",
      "  Min BLEU: 20.56\n",
      "  Max BLEU: 46.31\n",
      "  Std Dev: 13.62\n",
      "  Valid sentences: 3/3\n",
      "\n",
      "TOP 3 BEST TRANSLATIONS:\n",
      "  1. BLEU: 46.31\n",
      "     Original: Bác sĩ chẩn đoán viêm phế quản.\n",
      "     Translation: Doctor diagnosed bronchitis.\n",
      "     Reference: The doctor diagnosed bronchitis.\n",
      "\n",
      "  2. BLEU: 41.11\n",
      "     Original: Xét nghiệm máu cho thấy tăng bạch cầu.\n",
      "     Translation: Blood test shows increased white blood cells.\n",
      "     Reference: Blood test showed elevated white blood cells.\n",
      "\n",
      "  3. BLEU: 20.56\n",
      "     Original: Bệnh nhân đến khám vì đau đầu.\n",
      "     Translation: The patient came to see doctor because of headache.\n",
      "     Reference: The patient came for examination due to headache.\n",
      "\n",
      "TOP 3 WORST TRANSLATIONS:\n",
      "  1. BLEU: 46.31\n",
      "     Original: Bác sĩ chẩn đoán viêm phế quản.\n",
      "     Translation: Doctor diagnosed bronchitis.\n",
      "     Reference: The doctor diagnosed bronchitis.\n",
      "\n",
      "  2. BLEU: 41.11\n",
      "     Original: Xét nghiệm máu cho thấy tăng bạch cầu.\n",
      "     Translation: Blood test shows increased white blood cells.\n",
      "     Reference: Blood test showed elevated white blood cells.\n",
      "\n",
      "  3. BLEU: 20.56\n",
      "     Original: Bệnh nhân đến khám vì đau đầu.\n",
      "     Translation: The patient came to see doctor because of headache.\n",
      "     Reference: The patient came for examination due to headache.\n",
      "\n"
     ]
    }
   ],
   "source": [
    "import pandas as pd\n",
    "from evalutor import BLEUEvaluator\n",
    "# Example usage:\n",
    "# Create sample data\n",
    "sample_data = {\n",
    "    'original': [\n",
    "        'Bệnh nhân đến khám vì đau đầu.',\n",
    "        'Xét nghiệm máu cho thấy tăng bạch cầu.',\n",
    "        'Bác sĩ chẩn đoán viêm phế quản.'\n",
    "    ],\n",
    "    'reference': [\n",
    "        ['The patient came for examination due to headache.', 'Patient visited for headache complaints.'],\n",
    "        'Blood test showed elevated white blood cells.',\n",
    "        'The doctor diagnosed bronchitis.'\n",
    "    ],\n",
    "    'destination': [\n",
    "        'The patient came to see doctor because of headache.',\n",
    "        'Blood test shows increased white blood cells.',\n",
    "        'Doctor diagnosed bronchitis.'\n",
    "    ]\n",
    "}\n",
    "\n",
    "# Create DataFrame and evaluate\n",
    "df = pd.DataFrame(sample_data)\n",
    "evaluator = BLEUEvaluator(tokenizer='intl')\n",
    "results = evaluator.evaluate_dataframe(df)\n",
    "evaluator.print_detailed_report(results)"
   ]
  },
  {
   "cell_type": "code",
   "execution_count": null,
   "id": "f0791bf4",
   "metadata": {},
   "outputs": [],
   "source": []
  }
 ],
 "metadata": {
  "kernelspec": {
   "display_name": "base",
   "language": "python",
   "name": "python3"
  },
  "language_info": {
   "codemirror_mode": {
    "name": "ipython",
    "version": 3
   },
   "file_extension": ".py",
   "mimetype": "text/x-python",
   "name": "python",
   "nbconvert_exporter": "python",
   "pygments_lexer": "ipython3",
   "version": "3.10.9"
  }
 },
 "nbformat": 4,
 "nbformat_minor": 5
}
